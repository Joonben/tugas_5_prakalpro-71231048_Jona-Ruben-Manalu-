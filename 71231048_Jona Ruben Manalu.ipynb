{
 "cells": [
  {
   "cell_type": "code",
   "execution_count": 3,
   "id": "1650f6e3",
   "metadata": {
    "scrolled": true
   },
   "outputs": [
    {
     "name": "stdout",
     "output_type": "stream",
     "text": [
      "Masukan Bilangan Yang Dikali = 10\n",
      "Masukan Bilangan Perkalian   = 7\n",
      "10x7=7+7+7+7+7+7+7+7+7+7=70\n"
     ]
    }
   ],
   "source": [
    "#latihan mandiri 5.1\n",
    "def perkalian(a, b):\n",
    "    hasil = 0\n",
    "    penjumlahan_str =\"\"\n",
    "    print(str(a) + \"x\" + str(b) + \"=\", end=\"\")\n",
    "    for i in range(a):\n",
    "        hasil += b\n",
    "        penjumlahan_str += str(b)\n",
    "        if i < a - 1:\n",
    "            penjumlahan_str += \"+\"\n",
    "        else :\n",
    "            penjumlahan_str += \"=\" + str(hasil)\n",
    "    return penjumlahan_str\n",
    "\n",
    "bil_1 = int(input(\"Masukan Bilangan Yang Dikali = \"))\n",
    "bil_2 = int(input(\"Masukan Bilangan Perkalian   = \"))\n",
    "print(perkalian(bil_1, bil_2))"
   ]
  },
  {
   "cell_type": "code",
   "execution_count": 6,
   "id": "c1a43ebd",
   "metadata": {},
   "outputs": [
    {
     "name": "stdout",
     "output_type": "stream",
     "text": [
      "Masukan nilai bawah = 97\n",
      "Masukan nilai atas = 82\n",
      "97,95,93,91,89,87,85,83,"
     ]
    }
   ],
   "source": [
    "#latihan mandiri 5.2\n",
    "def ganjil(bil1,bil2):\n",
    "    if bil2 > bil1 :\n",
    "        while bil2 != bil1:\n",
    "            if bil2 % 2 == 1:\n",
    "                print(bil2, end=\",\")\n",
    "            bil2 = bil2 - 1\n",
    "    else :\n",
    "        while bil2 != bil1 :\n",
    "            bil2 = bil2 +1 \n",
    "            if bil2 % 2 == 1:\n",
    "                print(bil2,end=\",\")\n",
    "bawah = int(input(\"Masukan nilai bawah = \"))\n",
    "atas = int(input(\"Masukan nilai atas = \"))\n",
    "ganjil(atas, bawah)"
   ]
  },
  {
   "cell_type": "code",
   "execution_count": 17,
   "id": "64a3dba3",
   "metadata": {},
   "outputs": [
    {
     "name": "stdout",
     "output_type": "stream",
     "text": [
      "Berapa Jumlah mata kuliah = 6\n",
      "\n",
      "Nilai MK 1 : A\n",
      "Rata - rata = 0.67\n",
      "Nilai MK 2 : B\n",
      "Rata - rata = 1.17\n",
      "Nilai MK 3 : C\n",
      "Rata - rata = 1.50\n",
      "Nilai MK 4 : A\n",
      "Rata - rata = 2.17\n",
      "Nilai MK 5 : D\n",
      "Rata - rata = 2.33\n",
      "Nilai MK 6 : C\n",
      "Rata - rata = 2.67\n"
     ]
    }
   ],
   "source": [
    "#latihan mandiri 5.3\n",
    "a = int(input(\"Berapa Jumlah mata kuliah = \"))\n",
    "print()\n",
    "total = 0\n",
    "for i in range (0, a):\n",
    "    temp = input(\"Nilai MK %d : \"%(i+1))\n",
    "    if temp == \"A\":\n",
    "        nilai = 4\n",
    "    elif temp == \"B\":\n",
    "        nilai = 3\n",
    "    elif temp == \"C\":\n",
    "        nilai = 2\n",
    "    elif temp == \"D\":\n",
    "        nilai = 1\n",
    "    total += nilai\n",
    "    ratarata = total / a\n",
    "    print(\"Rata - rata = %0.2f\"% ratarata)"
   ]
  }
 ],
 "metadata": {
  "kernelspec": {
   "display_name": "Python 3 (ipykernel)",
   "language": "python",
   "name": "python3"
  },
  "language_info": {
   "codemirror_mode": {
    "name": "ipython",
    "version": 3
   },
   "file_extension": ".py",
   "mimetype": "text/x-python",
   "name": "python",
   "nbconvert_exporter": "python",
   "pygments_lexer": "ipython3",
   "version": "3.11.5"
  }
 },
 "nbformat": 4,
 "nbformat_minor": 5
}
